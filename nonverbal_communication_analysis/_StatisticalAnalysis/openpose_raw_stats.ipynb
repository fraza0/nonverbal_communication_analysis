{
 "cells": [
  {
   "cell_type": "code",
   "execution_count": 1,
   "metadata": {},
   "outputs": [
    {
     "name": "stdout",
     "output_type": "stream",
     "text": [
      "Working Directory: /home/fraza0/Desktop/MEI/TESE/nonverbal_communication_analysis\n"
     ]
    }
   ],
   "source": [
    "import os\n",
    "os.chdir('/home/fraza0/Desktop/MEI/TESE/nonverbal_communication_analysis')\n",
    "print(\"Working Directory:\", os.getcwd())\n",
    "import ipywidgets as widgets"
   ]
  },
  {
   "cell_type": "code",
   "execution_count": 2,
   "metadata": {},
   "outputs": [],
   "source": [
    "import pandas as pd\n",
    "from pandas.io.json import json_normalize\n",
    "import json\n",
    "from pprint import pprint\n",
    "import threading\n",
    "from IPython.display import display\n",
    "import ipywidgets as widgets\n",
    "import time\n",
    "from nonverbal_communication_analysis.environment import OPENFACE_OUTPUT_DIR, OPENPOSE_OUTPUT_DIR, VALID_OUTPUT_FILE_TYPES\n",
    "from nonverbal_communication_analysis.utils import fetch_files_from_directory, filter_files"
   ]
  },
  {
   "cell_type": "code",
   "execution_count": 3,
   "metadata": {},
   "outputs": [],
   "source": [
    "per_frame_metrics = {\n",
    "    'n_people': 0,\n",
    "    'valid_face_keypoints': 0,\n",
    "    'total_valid_face_keypoints': 0,\n",
    "    'valid_pose_keypoints': 0,\n",
    "    'total_valid_pose_keypoints': 0,\n",
    "}\n",
    "\n",
    "# [{frame, per_frame_metrics}]\n",
    "vid_metrics = []"
   ]
  },
  {
   "cell_type": "code",
   "execution_count": 4,
   "metadata": {},
   "outputs": [
    {
     "data": {
      "application/vnd.jupyter.widget-view+json": {
       "model_id": "c65a1f7408f64990859da248a014dd1f",
       "version_major": 2,
       "version_minor": 0
      },
      "text/plain": [
       "Dropdown(description='Group:', index=3, options=('3CLC9VWR_output_OLD.tar.gz', '1403201803_output', 'walking_h…"
      ]
     },
     "metadata": {},
     "output_type": "display_data"
    }
   ],
   "source": [
    "groups_list = os.listdir(OPENPOSE_OUTPUT_DIR)\n",
    "\n",
    "GROUP_ID = widgets.Dropdown(\n",
    "    options=groups_list,\n",
    "    value=groups_list[-2],\n",
    "    description='Group:',\n",
    "    disabled=False,\n",
    ")\n",
    "display(GROUP_ID)"
   ]
  },
  {
   "cell_type": "code",
   "execution_count": 7,
   "metadata": {},
   "outputs": [
    {
     "name": "stdout",
     "output_type": "stream",
     "text": [
      "Found: 72178 files\n"
     ]
    }
   ],
   "source": [
    "_dir = OPENPOSE_OUTPUT_DIR+GROUP_ID.value+\"/output_pc1/\"\n",
    "input_files = [_dir+file for file in filter_files(fetch_files_from_directory([_dir]), valid_types = VALID_OUTPUT_FILE_TYPES)]\n",
    "total_files = len(input_files)\n",
    "print(\"Found: %s files\" % total_files)"
   ]
  },
  {
   "cell_type": "code",
   "execution_count": 8,
   "metadata": {},
   "outputs": [
    {
     "data": {
      "application/vnd.jupyter.widget-view+json": {
       "model_id": "56e6c874494e41859cccd3f2cb1ef881",
       "version_major": 2,
       "version_minor": 0
      },
      "text/plain": [
       "FloatSlider(value=0.5, description='Minimum Keypoint Confidence:', max=1.0, readout_format='.1f', step=0.05)"
      ]
     },
     "metadata": {},
     "output_type": "display_data"
    }
   ],
   "source": [
    "CONFIDENCE_THRESHOLD = widgets.FloatSlider(\n",
    "    value=0.50,\n",
    "    min=0,\n",
    "    max=1.0,\n",
    "    step=0.05,\n",
    "    description='Minimum Keypoint Confidence:',\n",
    "    disabled=False,\n",
    "    orientation='horizontal',\n",
    "    readout=True,\n",
    "    readout_format='.1f'\n",
    ")\n",
    "display(CONFIDENCE_THRESHOLD)"
   ]
  },
  {
   "cell_type": "code",
   "execution_count": 9,
   "metadata": {},
   "outputs": [],
   "source": [
    "def calculate_person_valid_keypoints(person_df):\n",
    "    valid_person_pose_keypoints = 0\n",
    "    person_entry = [person_df[x:x+3] for x in range(0, len(person_df), 3)]\n",
    "    for pose_entry in person_entry:\n",
    "        confidence = pose_entry[2]\n",
    "        if confidence > CONFIDENCE_THRESHOLD.value:\n",
    "            valid_person_pose_keypoints += 1\n",
    "    return valid_person_pose_keypoints"
   ]
  },
  {
   "cell_type": "code",
   "execution_count": 27,
   "metadata": {
    "scrolled": true
   },
   "outputs": [
    {
     "data": {
      "application/vnd.jupyter.widget-view+json": {
       "model_id": "a3a56bf3d8fe4cb39ba882e6aba71695",
       "version_major": 2,
       "version_minor": 0
      },
      "text/plain": [
       "FloatProgress(value=0.0, max=72178.0)"
      ]
     },
     "metadata": {},
     "output_type": "display_data"
    },
    {
     "name": "stdout",
     "output_type": "stream",
     "text": [
      "CPU times: user 42.3 ms, sys: 12.3 ms, total: 54.6 ms\n",
      "Wall time: 39 ms\n",
      "9901\n",
      "9902\n",
      "9903\n",
      "9904\n",
      "9905\n",
      "9906\n",
      "9907\n",
      "9908\n",
      "9909\n",
      "9910\n",
      "9911\n",
      "9912\n",
      "9913\n",
      "9914\n",
      "9915\n",
      "9916\n",
      "9917\n",
      "9918\n",
      "9919\n",
      "9920\n",
      "9921\n",
      "9922\n",
      "9923\n",
      "9924\n",
      "9925\n",
      "9926\n",
      "9927\n",
      "9928\n",
      "9929\n",
      "9930\n",
      "9931\n",
      "9932\n",
      "9933\n",
      "9934\n",
      "9935\n",
      "9936\n",
      "9937\n",
      "9938\n",
      "9939\n",
      "9940\n",
      "9941\n",
      "9942\n",
      "9943\n",
      "9944\n",
      "9945\n",
      "9946\n",
      "9947\n",
      "9948\n",
      "9949\n",
      "9950\n",
      "9951\n",
      "9952\n",
      "9953\n",
      "9954\n",
      "9955\n",
      "9956\n",
      "9957\n",
      "9958\n",
      "9959\n",
      "9960\n",
      "9961\n",
      "9962\n",
      "9963\n",
      "9964\n",
      "9965\n",
      "9966\n",
      "9967"
     ]
    }
   ],
   "source": [
    "%%time\n",
    "\n",
    "progress = widgets.FloatProgress(value=0.0, min=0.0, max=total_files)\n",
    "def get_metrics(progress, input_files):\n",
    "    counter = 0\n",
    "    for file in input_files[:]:\n",
    "        counter += 1\n",
    "        progress.value = float(counter/total_files)\n",
    "        with open(file) as json_data:\n",
    "            data = json.load(json_data)\n",
    "            df = json_normalize(data['people'])\n",
    "            per_frame_metrics['n_people'] = len(df['person_id'])\n",
    "            per_frame_metrics['valid_face_keypoints'] = dict(df['face_keypoints_2d'].apply(calculate_person_valid_keypoints))\n",
    "            per_frame_metrics['total_valid_face_keypoints'] = sum(per_frame_metrics['valid_face_keypoints'].values())\n",
    "            per_frame_metrics['valid_pose_keypoints'] = dict(df['pose_keypoints_2d'].apply(calculate_person_valid_keypoints))\n",
    "            per_frame_metrics['total_valid_pose_keypoints'] = sum(per_frame_metrics['valid_pose_keypoints'].values())\n",
    "        vid_metrics.append({counter: per_frame_metrics})\n",
    "        \n",
    "thread = threading.Thread(target=get_metrics, args=(progress,input_files))\n",
    "display(progress)\n",
    "thread.start()"
   ]
  },
  {
   "cell_type": "code",
   "execution_count": 265,
   "metadata": {},
   "outputs": [],
   "source": [
    "# num_people_time = [n.value for n in vid_metrics]"
   ]
  }
 ],
 "metadata": {
  "kernelspec": {
   "display_name": "Python 3.7.5 64-bit ('mei_tese': virtualenv)",
   "language": "python",
   "name": "python37564bitmeitesevirtualenvfa8ee47ef0b64b92842bace2663bdabc"
  },
  "language_info": {
   "codemirror_mode": {
    "name": "ipython",
    "version": 3
   },
   "file_extension": ".py",
   "mimetype": "text/x-python",
   "name": "python",
   "nbconvert_exporter": "python",
   "pygments_lexer": "ipython3",
   "version": "3.7.5"
  }
 },
 "nbformat": 4,
 "nbformat_minor": 4
}
