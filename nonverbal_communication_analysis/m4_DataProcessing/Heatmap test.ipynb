{
 "cells": [
  {
   "cell_type": "markdown",
   "metadata": {},
   "source": [
    "# Heatmap Test"
   ]
  },
  {
   "cell_type": "code",
   "execution_count": 109,
   "metadata": {},
   "outputs": [
    {
     "name": "stdout",
     "output_type": "stream",
     "text": [
      "Working Directory: /home/fraza0/Desktop/MEI/TESE/nonverbal_communication_analysis\n"
     ]
    }
   ],
   "source": [
    "import os\n",
    "os.chdir('/home/fraza0/Desktop/MEI/TESE/nonverbal_communication_analysis')\n",
    "print(\"Working Directory:\", os.getcwd())\n",
    "\n",
    "import cv2\n",
    "import matplotlib.pyplot as plt\n",
    "import numpy as np\n",
    "from itertools import islice\n",
    "%matplotlib inline"
   ]
  },
  {
   "cell_type": "code",
   "execution_count": 180,
   "metadata": {},
   "outputs": [],
   "source": [
    "frame1_path = 'DATASET_DEP/SYNC/3CLC9VWRSAMPLE/task_1/frames/cut001.png'\n",
    "frame2_path = 'DATASET_DEP/SYNC/3CLC9VWRSAMPLE/task_1/frames/cut002.png'\n",
    "frame3_path = 'DATASET_DEP/SYNC/3CLC9VWRSAMPLE/task_1/frames/cut003.png'\n",
    "frame4_path = 'DATASET_DEP/SYNC/3CLC9VWRSAMPLE/task_1/frames/cut004.png'\n",
    "frame5_path = 'DATASET_DEP/SYNC/3CLC9VWRSAMPLE/task_1/frames/cut005.png'\n",
    "\n",
    "frame1 = cv2.imread(frame1_path)\n",
    "frame2 = cv2.imread(frame2_path)\n",
    "frame3 = cv2.imread(frame3_path)\n",
    "frame4 = cv2.imread(frame4_path)\n",
    "frame5 = cv2.imread(frame5_path)\n",
    "\n",
    "activity_frame = np.zeros(frame1.shape[:2], np.int)"
   ]
  },
  {
   "cell_type": "code",
   "execution_count": 181,
   "metadata": {
    "scrolled": true
   },
   "outputs": [],
   "source": [
    "def frame_energy(previous_frame, current_frame):\n",
    "    frame_diff = cv2.absdiff(previous_frame, current_frame)\n",
    "    gs_frame_diff = cv2.cvtColor(frame_diff, cv2.COLOR_BGR2GRAY)\n",
    "    ret, threshold_frame_diff = cv2.threshold(gs_frame_diff,127,1,cv2.THRESH_BINARY)\n",
    "    return threshold_frame_diff"
   ]
  },
  {
   "cell_type": "code",
   "execution_count": 183,
   "metadata": {},
   "outputs": [],
   "source": [
    "activity_frame += frame_energy(frame1, frame2)\n",
    "activity_frame += frame_energy(frame2, frame3)\n",
    "activity_frame += frame_energy(frame3, frame4)\n",
    "activity_frame += frame_energy(frame4, frame5)"
   ]
  },
  {
   "cell_type": "code",
   "execution_count": 190,
   "metadata": {},
   "outputs": [
    {
     "name": "stdout",
     "output_type": "stream",
     "text": [
      "Total Energy 80\n"
     ]
    },
    {
     "data": {
      "image/png": "[encoded data removed]",
      "text/plain": [
       "<Figure size 432x288 with 1 Axes>"
      ]
     },
     "metadata": {
      "needs_background": "light"
     },
     "output_type": "display_data"
    }
   ],
   "source": [
    "plt.imshow(activity_frame)\n",
    "print(\"Total Energy\", np.sum(activity_frame))"
   ]
  },
  {
   "cell_type": "markdown",
   "metadata": {},
   "source": [
    "### Grab sample frame and overlay the heatmap with more energy zones"
   ]
  },
  {
   "cell_type": "code",
   "execution_count": 192,
   "metadata": {},
   "outputs": [
    {
     "data": {
      "text/plain": [
       "<matplotlib.image.AxesImage at 0x7f03a97a4110>"
      ]
     },
     "execution_count": 192,
     "metadata": {},
     "output_type": "execute_result"
    },
    {
     "data": {
      "image/png": "[encoded data removed]",
      "text/plain": [
       "<Figure size 432x288 with 1 Axes>"
      ]
     },
     "metadata": {
      "needs_background": "light"
     },
     "output_type": "display_data"
    }
   ],
   "source": [
    "sample_frame = frame1\n",
    "overlay_heatmap = activity_frame\n",
    "\n",
    "plt.imshow(sample_frame)\n",
    "plt.imshow(activity_frame, cmap=plt.cm.viridis, alpha=.9)\n",
    "\n",
    "im1 = plt.imshow(Z1, cmap=plt.cm.gray, interpolation='nearest',\n",
    "                 extent=extent)\n",
    "im2 = plt.imshow(Z2, cmap=plt.cm.viridis, , interpolation='bilinear',\n",
    "                 extent=extent)"
   ]
  }
 ],
 "metadata": {
  "kernelspec": {
   "display_name": "Python 3.7.5 64-bit ('mei_tese': virtualenv)",
   "language": "python",
   "name": "python37564bitmeitesevirtualenvfa8ee47ef0b64b92842bace2663bdabc"
  },
  "language_info": {
   "codemirror_mode": {
    "name": "ipython",
    "version": 3
   },
   "file_extension": ".py",
   "mimetype": "text/x-python",
   "name": "python",
   "nbconvert_exporter": "python",
   "pygments_lexer": "ipython3",
   "version": "3.7.5"
  }
 },
 "nbformat": 4,
 "nbformat_minor": 4
}
