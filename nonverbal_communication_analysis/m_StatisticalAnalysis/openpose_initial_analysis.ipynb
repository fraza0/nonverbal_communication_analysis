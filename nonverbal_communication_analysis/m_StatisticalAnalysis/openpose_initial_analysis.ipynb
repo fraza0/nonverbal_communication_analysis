{
 "cells": [
  {
   "cell_type": "code",
   "execution_count": 1,
   "metadata": {},
   "outputs": [
    {
     "name": "stdout",
     "output_type": "stream",
     "text": [
      "Working Directory: /home/fraza0/Desktop/MEI/TESE/nonverbal_communication_analysis\n"
     ]
    }
   ],
   "source": [
    "import os\n",
    "os.chdir('/home/fraza0/Desktop/MEI/TESE/nonverbal_communication_analysis')\n",
    "print(\"Working Directory:\", os.getcwd())\n",
    "import ipywidgets as widgets\n",
    "import pandas as pd\n",
    "from pandas.io.json import json_normalize\n",
    "import json\n",
    "from pprint import pprint\n",
    "import threading\n",
    "from IPython.display import display\n",
    "import ipywidgets as widgets\n",
    "import time\n",
    "import matplotlib.pyplot as plt\n",
    "import numpy as np\n",
    "import cv2\n",
    "from pathlib import Path\n",
    "import re\n",
    "from nonverbal_communication_analysis.environment import OPENFACE_OUTPUT_DIR, OPENPOSE_OUTPUT_DIR, VALID_OUTPUT_FILE_TYPES"
   ]
  },
  {
   "cell_type": "code",
   "execution_count": 2,
   "metadata": {},
   "outputs": [
    {
     "data": {
      "application/vnd.jupyter.widget-view+json": {
       "model_id": "8114f9a6e9504ab98d82418a1fb10ca1",
       "version_major": 2,
       "version_minor": 0
      },
      "text/plain": [
       "Dropdown(description='Group:', index=3, options=('3CLC9VWRSAMPLE_447frames.zip', 'walking_happy_output.tar.gz'…"
      ]
     },
     "metadata": {},
     "output_type": "display_data"
    }
   ],
   "source": [
    "groups_list = os.listdir(OPENPOSE_OUTPUT_DIR)\n",
    "\n",
    "GROUP_ID = widgets.Dropdown(\n",
    "    options=groups_list,\n",
    "    value=groups_list[-1],\n",
    "    description='Group:',\n",
    "    disabled=False,\n",
    ")\n",
    "display(GROUP_ID)"
   ]
  },
  {
   "cell_type": "code",
   "execution_count": 3,
   "metadata": {},
   "outputs": [],
   "source": [
    "def is_valid_pose(pose_keypoints):\n",
    "    invalid_entries = 0\n",
    "    invalid_keypoint = {-1, -1, 0}\n",
    "    for idx, keypoints in pose_keypoints.items():\n",
    "        if set(keypoints) == invalid_keypoint:\n",
    "            invalid_entries += 1\n",
    "            \n",
    "    return len(pose_keypoints) - invalid_entries\n",
    "\n",
    "def is_valid_face(face_keypoints):\n",
    "    invalid_entries = 0\n",
    "    invalid_keypoint = {-1, -1, 0}\n",
    "    for idx, keypoints in face_keypoints.items():\n",
    "        if set(keypoints) == invalid_keypoint:\n",
    "            invalid_entries += 1\n",
    "            \n",
    "    return len(face_keypoints) - invalid_entries"
   ]
  },
  {
   "cell_type": "code",
   "execution_count": 4,
   "metadata": {},
   "outputs": [
    {
     "name": "stdout",
     "output_type": "stream",
     "text": [
      "CPU times: user 44.1 ms, sys: 8 ms, total: 52.1 ms\n",
      "Wall time: 51.9 ms\n"
     ]
    }
   ],
   "source": [
    "%%time\n",
    "\n",
    "openpose_frame_metrics = pd.DataFrame(columns=['camera', 'n_subjects', 'valid_poses', 'valid_faces'])\n",
    "\n",
    "if not os.path.isfile('openpose_metrics_df.csv'):\n",
    "        for camera in range(1,4):\n",
    "            camera_name = '/output_pc%s/' % camera\n",
    "            _dir = OPENPOSE_OUTPUT_DIR/(GROUP_ID.value+camera_name)\n",
    "            input_files = [_dir/file for file in _dir.iterdir() if file.suffix in VALID_OUTPUT_FILE_TYPES]\n",
    "            input_files.sort()\n",
    "            total_files = len(input_files)\n",
    "            print(\"Found: %s files on %s\" % (total_files, camera_name))\n",
    "\n",
    "            for file in input_files[:]:\n",
    "                data = json.load(open(file))\n",
    "                df = pd.json_normalize(data['people'])\n",
    "                openpose_frame_metrics = openpose_frame_metrics.append({'camera': camera, 'n_subjects': len(df['person_id']), 'valid_poses': is_valid_pose(df['pose_keypoints_2d']), 'valid_faces': is_valid_face(df['face_keypoints_2d'])}, ignore_index=True)\n",
    "            openpose_frame_metrics.to_csv('openpose_metrics_df.csv')\n",
    "else:\n",
    "    openpose_frame_metrics = pd.read_csv('openpose_metrics_df.csv', usecols=['camera', 'n_subjects', 'valid_poses', 'valid_faces'])"
   ]
  },
  {
   "cell_type": "markdown",
   "metadata": {},
   "source": [
    "## Openpose"
   ]
  },
  {
   "cell_type": "code",
   "execution_count": 5,
   "metadata": {},
   "outputs": [
    {
     "data": {
      "text/html": [
       "<div>\n",
       "<style scoped>\n",
       "    .dataframe tbody tr th:only-of-type {\n",
       "        vertical-align: middle;\n",
       "    }\n",
       "\n",
       "    .dataframe tbody tr th {\n",
       "        vertical-align: top;\n",
       "    }\n",
       "\n",
       "    .dataframe thead th {\n",
       "        text-align: right;\n",
       "    }\n",
       "</style>\n",
       "<table border=\"1\" class=\"dataframe\">\n",
       "  <thead>\n",
       "    <tr style=\"text-align: right;\">\n",
       "      <th></th>\n",
       "      <th>camera</th>\n",
       "      <th>n_subjects</th>\n",
       "      <th>valid_poses</th>\n",
       "      <th>valid_faces</th>\n",
       "    </tr>\n",
       "  </thead>\n",
       "  <tbody>\n",
       "    <tr>\n",
       "      <th>0</th>\n",
       "      <td>1</td>\n",
       "      <td>4</td>\n",
       "      <td>4</td>\n",
       "      <td>2</td>\n",
       "    </tr>\n",
       "    <tr>\n",
       "      <th>1</th>\n",
       "      <td>1</td>\n",
       "      <td>4</td>\n",
       "      <td>4</td>\n",
       "      <td>2</td>\n",
       "    </tr>\n",
       "    <tr>\n",
       "      <th>2</th>\n",
       "      <td>1</td>\n",
       "      <td>4</td>\n",
       "      <td>4</td>\n",
       "      <td>2</td>\n",
       "    </tr>\n",
       "    <tr>\n",
       "      <th>3</th>\n",
       "      <td>1</td>\n",
       "      <td>4</td>\n",
       "      <td>4</td>\n",
       "      <td>2</td>\n",
       "    </tr>\n",
       "    <tr>\n",
       "      <th>4</th>\n",
       "      <td>1</td>\n",
       "      <td>4</td>\n",
       "      <td>4</td>\n",
       "      <td>2</td>\n",
       "    </tr>\n",
       "    <tr>\n",
       "      <th>...</th>\n",
       "      <td>...</td>\n",
       "      <td>...</td>\n",
       "      <td>...</td>\n",
       "      <td>...</td>\n",
       "    </tr>\n",
       "    <tr>\n",
       "      <th>216529</th>\n",
       "      <td>3</td>\n",
       "      <td>4</td>\n",
       "      <td>0</td>\n",
       "      <td>0</td>\n",
       "    </tr>\n",
       "    <tr>\n",
       "      <th>216530</th>\n",
       "      <td>3</td>\n",
       "      <td>5</td>\n",
       "      <td>0</td>\n",
       "      <td>0</td>\n",
       "    </tr>\n",
       "    <tr>\n",
       "      <th>216531</th>\n",
       "      <td>3</td>\n",
       "      <td>6</td>\n",
       "      <td>0</td>\n",
       "      <td>0</td>\n",
       "    </tr>\n",
       "    <tr>\n",
       "      <th>216532</th>\n",
       "      <td>3</td>\n",
       "      <td>7</td>\n",
       "      <td>0</td>\n",
       "      <td>0</td>\n",
       "    </tr>\n",
       "    <tr>\n",
       "      <th>216533</th>\n",
       "      <td>3</td>\n",
       "      <td>8</td>\n",
       "      <td>0</td>\n",
       "      <td>0</td>\n",
       "    </tr>\n",
       "  </tbody>\n",
       "</table>\n",
       "<p>216534 rows × 4 columns</p>\n",
       "</div>"
      ],
      "text/plain": [
       "        camera  n_subjects  valid_poses  valid_faces\n",
       "0            1           4            4            2\n",
       "1            1           4            4            2\n",
       "2            1           4            4            2\n",
       "3            1           4            4            2\n",
       "4            1           4            4            2\n",
       "...        ...         ...          ...          ...\n",
       "216529       3           4            0            0\n",
       "216530       3           5            0            0\n",
       "216531       3           6            0            0\n",
       "216532       3           7            0            0\n",
       "216533       3           8            0            0\n",
       "\n",
       "[216534 rows x 4 columns]"
      ]
     },
     "execution_count": 5,
     "metadata": {},
     "output_type": "execute_result"
    }
   ],
   "source": [
    "openpose_frame_metrics"
   ]
  },
  {
   "cell_type": "code",
   "execution_count": 6,
   "metadata": {
    "scrolled": false
   },
   "outputs": [
    {
     "data": {
      "text/html": [
       "<div>\n",
       "<style scoped>\n",
       "    .dataframe tbody tr th:only-of-type {\n",
       "        vertical-align: middle;\n",
       "    }\n",
       "\n",
       "    .dataframe tbody tr th {\n",
       "        vertical-align: top;\n",
       "    }\n",
       "\n",
       "    .dataframe thead th {\n",
       "        text-align: right;\n",
       "    }\n",
       "</style>\n",
       "<table border=\"1\" class=\"dataframe\">\n",
       "  <thead>\n",
       "    <tr style=\"text-align: right;\">\n",
       "      <th></th>\n",
       "      <th></th>\n",
       "      <th>n_subjects</th>\n",
       "      <th>valid_faces</th>\n",
       "    </tr>\n",
       "    <tr>\n",
       "      <th>camera</th>\n",
       "      <th>valid_poses</th>\n",
       "      <th></th>\n",
       "      <th></th>\n",
       "    </tr>\n",
       "  </thead>\n",
       "  <tbody>\n",
       "    <tr>\n",
       "      <th rowspan=\"9\" valign=\"top\">1</th>\n",
       "      <th>0</th>\n",
       "      <td>8</td>\n",
       "      <td>8</td>\n",
       "    </tr>\n",
       "    <tr>\n",
       "      <th>1</th>\n",
       "      <td>8</td>\n",
       "      <td>8</td>\n",
       "    </tr>\n",
       "    <tr>\n",
       "      <th>2</th>\n",
       "      <td>323</td>\n",
       "      <td>323</td>\n",
       "    </tr>\n",
       "    <tr>\n",
       "      <th>3</th>\n",
       "      <td>6862</td>\n",
       "      <td>6862</td>\n",
       "    </tr>\n",
       "    <tr>\n",
       "      <th>4</th>\n",
       "      <td>59997</td>\n",
       "      <td>59997</td>\n",
       "    </tr>\n",
       "    <tr>\n",
       "      <th>5</th>\n",
       "      <td>4774</td>\n",
       "      <td>4774</td>\n",
       "    </tr>\n",
       "    <tr>\n",
       "      <th>6</th>\n",
       "      <td>208</td>\n",
       "      <td>208</td>\n",
       "    </tr>\n",
       "    <tr>\n",
       "      <th>7</th>\n",
       "      <td>5</td>\n",
       "      <td>5</td>\n",
       "    </tr>\n",
       "    <tr>\n",
       "      <th>8</th>\n",
       "      <td>1</td>\n",
       "      <td>1</td>\n",
       "    </tr>\n",
       "    <tr>\n",
       "      <th rowspan=\"8\" valign=\"top\">2</th>\n",
       "      <th>0</th>\n",
       "      <td>8</td>\n",
       "      <td>8</td>\n",
       "    </tr>\n",
       "    <tr>\n",
       "      <th>2</th>\n",
       "      <td>17</td>\n",
       "      <td>17</td>\n",
       "    </tr>\n",
       "    <tr>\n",
       "      <th>3</th>\n",
       "      <td>2839</td>\n",
       "      <td>2839</td>\n",
       "    </tr>\n",
       "    <tr>\n",
       "      <th>4</th>\n",
       "      <td>66166</td>\n",
       "      <td>66166</td>\n",
       "    </tr>\n",
       "    <tr>\n",
       "      <th>5</th>\n",
       "      <td>3023</td>\n",
       "      <td>3023</td>\n",
       "    </tr>\n",
       "    <tr>\n",
       "      <th>6</th>\n",
       "      <td>124</td>\n",
       "      <td>124</td>\n",
       "    </tr>\n",
       "    <tr>\n",
       "      <th>7</th>\n",
       "      <td>6</td>\n",
       "      <td>6</td>\n",
       "    </tr>\n",
       "    <tr>\n",
       "      <th>8</th>\n",
       "      <td>3</td>\n",
       "      <td>3</td>\n",
       "    </tr>\n",
       "    <tr>\n",
       "      <th rowspan=\"6\" valign=\"top\">3</th>\n",
       "      <th>0</th>\n",
       "      <td>8</td>\n",
       "      <td>8</td>\n",
       "    </tr>\n",
       "    <tr>\n",
       "      <th>3</th>\n",
       "      <td>201</td>\n",
       "      <td>201</td>\n",
       "    </tr>\n",
       "    <tr>\n",
       "      <th>4</th>\n",
       "      <td>66456</td>\n",
       "      <td>66456</td>\n",
       "    </tr>\n",
       "    <tr>\n",
       "      <th>5</th>\n",
       "      <td>5325</td>\n",
       "      <td>5325</td>\n",
       "    </tr>\n",
       "    <tr>\n",
       "      <th>6</th>\n",
       "      <td>149</td>\n",
       "      <td>149</td>\n",
       "    </tr>\n",
       "    <tr>\n",
       "      <th>7</th>\n",
       "      <td>23</td>\n",
       "      <td>23</td>\n",
       "    </tr>\n",
       "  </tbody>\n",
       "</table>\n",
       "</div>"
      ],
      "text/plain": [
       "                    n_subjects  valid_faces\n",
       "camera valid_poses                         \n",
       "1      0                     8            8\n",
       "       1                     8            8\n",
       "       2                   323          323\n",
       "       3                  6862         6862\n",
       "       4                 59997        59997\n",
       "       5                  4774         4774\n",
       "       6                   208          208\n",
       "       7                     5            5\n",
       "       8                     1            1\n",
       "2      0                     8            8\n",
       "       2                    17           17\n",
       "       3                  2839         2839\n",
       "       4                 66166        66166\n",
       "       5                  3023         3023\n",
       "       6                   124          124\n",
       "       7                     6            6\n",
       "       8                     3            3\n",
       "3      0                     8            8\n",
       "       3                   201          201\n",
       "       4                 66456        66456\n",
       "       5                  5325         5325\n",
       "       6                   149          149\n",
       "       7                    23           23"
      ]
     },
     "execution_count": 6,
     "metadata": {},
     "output_type": "execute_result"
    }
   ],
   "source": [
    "total_frames = len(openpose_frame_metrics[openpose_frame_metrics['camera']==1])\n",
    "subjects_pose_distribution = openpose_frame_metrics.groupby(['camera', 'valid_poses']).count()\n",
    "subjects_pose_distribution"
   ]
  },
  {
   "cell_type": "code",
   "execution_count": 7,
   "metadata": {},
   "outputs": [
    {
     "data": {
      "text/html": [
       "<div>\n",
       "<style scoped>\n",
       "    .dataframe tbody tr th:only-of-type {\n",
       "        vertical-align: middle;\n",
       "    }\n",
       "\n",
       "    .dataframe tbody tr th {\n",
       "        vertical-align: top;\n",
       "    }\n",
       "\n",
       "    .dataframe thead th {\n",
       "        text-align: right;\n",
       "    }\n",
       "</style>\n",
       "<table border=\"1\" class=\"dataframe\">\n",
       "  <thead>\n",
       "    <tr style=\"text-align: right;\">\n",
       "      <th></th>\n",
       "      <th></th>\n",
       "      <th>n_subjects</th>\n",
       "      <th>valid_poses</th>\n",
       "    </tr>\n",
       "    <tr>\n",
       "      <th>camera</th>\n",
       "      <th>valid_faces</th>\n",
       "      <th></th>\n",
       "      <th></th>\n",
       "    </tr>\n",
       "  </thead>\n",
       "  <tbody>\n",
       "    <tr>\n",
       "      <th rowspan=\"5\" valign=\"top\">1</th>\n",
       "      <th>0</th>\n",
       "      <td>3086</td>\n",
       "      <td>3086</td>\n",
       "    </tr>\n",
       "    <tr>\n",
       "      <th>1</th>\n",
       "      <td>18049</td>\n",
       "      <td>18049</td>\n",
       "    </tr>\n",
       "    <tr>\n",
       "      <th>2</th>\n",
       "      <td>34744</td>\n",
       "      <td>34744</td>\n",
       "    </tr>\n",
       "    <tr>\n",
       "      <th>3</th>\n",
       "      <td>12903</td>\n",
       "      <td>12903</td>\n",
       "    </tr>\n",
       "    <tr>\n",
       "      <th>4</th>\n",
       "      <td>3404</td>\n",
       "      <td>3404</td>\n",
       "    </tr>\n",
       "    <tr>\n",
       "      <th rowspan=\"5\" valign=\"top\">2</th>\n",
       "      <th>0</th>\n",
       "      <td>7257</td>\n",
       "      <td>7257</td>\n",
       "    </tr>\n",
       "    <tr>\n",
       "      <th>1</th>\n",
       "      <td>39620</td>\n",
       "      <td>39620</td>\n",
       "    </tr>\n",
       "    <tr>\n",
       "      <th>2</th>\n",
       "      <td>24211</td>\n",
       "      <td>24211</td>\n",
       "    </tr>\n",
       "    <tr>\n",
       "      <th>3</th>\n",
       "      <td>1082</td>\n",
       "      <td>1082</td>\n",
       "    </tr>\n",
       "    <tr>\n",
       "      <th>4</th>\n",
       "      <td>16</td>\n",
       "      <td>16</td>\n",
       "    </tr>\n",
       "    <tr>\n",
       "      <th rowspan=\"6\" valign=\"top\">3</th>\n",
       "      <th>0</th>\n",
       "      <td>3411</td>\n",
       "      <td>3411</td>\n",
       "    </tr>\n",
       "    <tr>\n",
       "      <th>1</th>\n",
       "      <td>16798</td>\n",
       "      <td>16798</td>\n",
       "    </tr>\n",
       "    <tr>\n",
       "      <th>2</th>\n",
       "      <td>27400</td>\n",
       "      <td>27400</td>\n",
       "    </tr>\n",
       "    <tr>\n",
       "      <th>3</th>\n",
       "      <td>20187</td>\n",
       "      <td>20187</td>\n",
       "    </tr>\n",
       "    <tr>\n",
       "      <th>4</th>\n",
       "      <td>4348</td>\n",
       "      <td>4348</td>\n",
       "    </tr>\n",
       "    <tr>\n",
       "      <th>5</th>\n",
       "      <td>18</td>\n",
       "      <td>18</td>\n",
       "    </tr>\n",
       "  </tbody>\n",
       "</table>\n",
       "</div>"
      ],
      "text/plain": [
       "                    n_subjects  valid_poses\n",
       "camera valid_faces                         \n",
       "1      0                  3086         3086\n",
       "       1                 18049        18049\n",
       "       2                 34744        34744\n",
       "       3                 12903        12903\n",
       "       4                  3404         3404\n",
       "2      0                  7257         7257\n",
       "       1                 39620        39620\n",
       "       2                 24211        24211\n",
       "       3                  1082         1082\n",
       "       4                    16           16\n",
       "3      0                  3411         3411\n",
       "       1                 16798        16798\n",
       "       2                 27400        27400\n",
       "       3                 20187        20187\n",
       "       4                  4348         4348\n",
       "       5                    18           18"
      ]
     },
     "execution_count": 7,
     "metadata": {},
     "output_type": "execute_result"
    }
   ],
   "source": [
    "subjects_face_distribution = openpose_frame_metrics.groupby(['camera', 'valid_faces']).count()\n",
    "subjects_face_distribution"
   ]
  },
  {
   "cell_type": "code",
   "execution_count": 8,
   "metadata": {
    "scrolled": false
   },
   "outputs": [
    {
     "data": {
      "image/png": "[encoded data removed]",
      "text/plain": [
       "<Figure size 1152x360 with 3 Axes>"
      ]
     },
     "metadata": {
      "needs_background": "light"
     },
     "output_type": "display_data"
    }
   ],
   "source": [
    "plot_x_max = 8\n",
    "fig, axes = plt.subplots(nrows=1, ncols=3, sharey=True, sharex=True, figsize=(16,5))\n",
    "\n",
    "fig.suptitle('Valid Subjects\\' Pose and Face Detection Distribution - Openpose', size=15)\n",
    "axes[1].set_xlabel('Subjects per frame', size=15)\n",
    "axes[0].set_ylabel('Frame count', size=15)\n",
    "for idx, ax in enumerate(axes):\n",
    "    idx += 1\n",
    "    ax.set_title('Camera pc'+str(idx))\n",
    "    ax.bar(x=subjects_pose_distribution.loc[idx].index+0.2, height=subjects_pose_distribution.loc[idx]['n_subjects'], width=0.4, label='Pose')\n",
    "    ax.bar(x=subjects_face_distribution.loc[idx].index-0.2, height=subjects_face_distribution.loc[idx]['n_subjects'], width=0.4, label='Face')\n",
    "    ax.set_xlim([-1, plot_x_max])\n",
    "    ax.set_xticks(np.arange(plot_x_max))\n",
    "    ax.set_ylim([0, total_frames])\n",
    "    ax.legend()\n",
    "    for p in ax.patches:\n",
    "        width, height = p.get_width(), p.get_height()\n",
    "        x, y = p.get_xy()\n",
    "        percentage = height/total_frames*100\n",
    "        if round(percentage) == 0:\n",
    "            ax.annotate('0%', (x+0.1, y + height + 0.1))\n",
    "        else:\n",
    "            ax.annotate('%.1f%%' % percentage, (x-0.1, y + height + 0.1))\n",
    "plt.show()"
   ]
  },
  {
   "cell_type": "markdown",
   "metadata": {},
   "source": [
    "## Openface"
   ]
  },
  {
   "cell_type": "code",
   "execution_count": 9,
   "metadata": {},
   "outputs": [
    {
     "name": "stdout",
     "output_type": "stream",
     "text": [
      "CPU times: user 87 ms, sys: 3.69 ms, total: 90.6 ms\n",
      "Wall time: 89.2 ms\n"
     ]
    }
   ],
   "source": [
    "%%time\n",
    "openface_frame_metrics = pd.DataFrame(columns=['camera', 'frame', 'face_id', 'valid_face'])\n",
    "\n",
    "if not os.path.isfile('openface_metrics_df.csv'):\n",
    "    path = \"DATASET_DEP/OPENFACE/\" + GROUP_ID.value\n",
    "    tasks_dirs = [x for x in Path(path).iterdir()]\n",
    "    for task_dir in tasks_dirs:\n",
    "        openface_files = [x for x in task_dir.iterdir() if x.suffix in VALID_OUTPUT_FILE_TYPES]\n",
    "        openface_files.sort()\n",
    "\n",
    "        for file in openface_files[:]:\n",
    "            camera_id = re.search(r'(?<=Video)(pc\\d{1})(?=\\d{14})', file.name).group(0) \n",
    "            df = pd.read_csv(file)\n",
    "            \n",
    "            for _, row in df.iterrows():\n",
    "                openface_frame_metrics = openface_frame_metrics.append({'camera': camera_id, 'frame': row['frame'], 'face_id': row[' face_id'], 'valid_face': row[' success'] == 1}, ignore_index=True)\n",
    "    openface_frame_metrics.to_csv('openface_metrics_df.csv')\n",
    "else:\n",
    "    openface_frame_metrics = pd.read_csv('openface_metrics_df.csv', usecols=['camera', 'frame', 'face_id', 'valid_face'])"
   ]
  },
  {
   "cell_type": "code",
   "execution_count": 10,
   "metadata": {
    "scrolled": true
   },
   "outputs": [
    {
     "data": {
      "image/png": "[encoded data removed]",
      "text/plain": [
       "<Figure size 720x360 with 1 Axes>"
      ]
     },
     "metadata": {
      "needs_background": "light"
     },
     "output_type": "display_data"
    }
   ],
   "source": [
    "fig, ax = plt.subplots(figsize=(10,5))\n",
    "\n",
    "fig.suptitle('Valid Subjects\\' Face Detection Distribution - Openface', size=15)\n",
    "ax.set_xlabel('something', size=15)\n",
    "ax.set_ylabel('Frames with Successfully Detected Faces', size=15)\n",
    "valid_face_camera = None\n",
    "for camera_id in openface_frame_metrics['camera'].unique():\n",
    "    prev = 0 if valid_face_camera is None else prev + valid_face_camera\n",
    "    valid_face_camera = openface_frame_metrics[(openface_frame_metrics['valid_face']==True) \\\n",
    "                                 & (openface_frame_metrics['camera']==camera_id)]['frame'].count()\n",
    "    ax.set_ylim([0, total_frames])\n",
    "    ax.get_xaxis().set_visible(False)\n",
    "    ax.bar(0, valid_face_camera, width=.2, bottom=prev, label='Camera '+str(camera_id))\n",
    "    ax.legend()\n",
    "\n",
    "total_frames_with_faces = openface_frame_metrics[(openface_frame_metrics['valid_face']==True)]['frame'].count()\n",
    "ax.annotate('%.1f%%' % (int(total_frames_with_faces)/total_frames*100), (0, y+3000 + height + 0.1))\n",
    "plt.show()"
   ]
  },
  {
   "cell_type": "markdown",
   "metadata": {},
   "source": [
    "## Openpose Faces Detection VS Openface Face Detection"
   ]
  },
  {
   "cell_type": "code",
   "execution_count": 24,
   "metadata": {
    "scrolled": false
   },
   "outputs": [
    {
     "data": {
      "image/png": "[encoded data removed]",
      "text/plain": [
       "<Figure size 1080x360 with 3 Axes>"
      ]
     },
     "metadata": {
      "needs_background": "light"
     },
     "output_type": "display_data"
    }
   ],
   "source": [
    "openface_subjects_face_distribution = openface_frame_metrics[openface_frame_metrics['valid_face']==True].groupby(['camera', 'frame']).count().groupby(['camera', 'valid_face']).count()\n",
    "\n",
    "fig, axes = plt.subplots(nrows=1, ncols=3, sharey=True, sharex=True, figsize=(15,5))\n",
    "fig.suptitle('OpenPose VS OpenFace - Valid Subjects\\' Face Detection', size=15)\n",
    "axes[1].set_xlabel('Subjects per frame', size=15)\n",
    "axes[0].set_ylabel('Frame count', size=15)\n",
    "\n",
    "for idx, ax in enumerate(axes):\n",
    "    idx += 1\n",
    "    ax.set_title('Camera pc'+str(idx))\n",
    "    openpose_bars = ax.bar(x=subjects_face_distribution.loc[idx].index-0.2, height=subjects_face_distribution.loc[idx]['n_subjects'], width=0.4, color='#3a8e86', label='OpenPose')\n",
    "    openface_bars = ax.bar(x=openface_subjects_face_distribution.loc['pc'+str(idx)].index+0.2, height=openface_subjects_face_distribution.loc['pc'+str(idx)]['face_id'], width=0.4, color='#f4c05f', label='OpenFace')\n",
    "    ax.set_xlim([-1, 5.2])\n",
    "    ax.set_xticks(np.arange(6))\n",
    "    ax.set_ylim([0,total_frames])\n",
    "    ax.legend()\n",
    "    for p in ax.patches:\n",
    "        width, height = p.get_width(), p.get_height()\n",
    "        x, y = p.get_xy()\n",
    "        percentage = height/total_frames*100\n",
    "        if round(percentage) == 0:\n",
    "            ax.annotate('0%', (x-0.1, y + height + 0.1))\n",
    "        else:\n",
    "            ax.annotate('%.1f%%' % percentage, (x-0.1, y + height + 0.1))\n",
    "plt.show()"
   ]
  },
  {
   "cell_type": "code",
   "execution_count": 12,
   "metadata": {},
   "outputs": [
    {
     "data": {
      "text/html": [
       "<div>\n",
       "<style scoped>\n",
       "    .dataframe tbody tr th:only-of-type {\n",
       "        vertical-align: middle;\n",
       "    }\n",
       "\n",
       "    .dataframe tbody tr th {\n",
       "        vertical-align: top;\n",
       "    }\n",
       "\n",
       "    .dataframe thead th {\n",
       "        text-align: right;\n",
       "    }\n",
       "</style>\n",
       "<table border=\"1\" class=\"dataframe\">\n",
       "  <thead>\n",
       "    <tr style=\"text-align: right;\">\n",
       "      <th></th>\n",
       "      <th></th>\n",
       "      <th>n_subjects</th>\n",
       "      <th>valid_poses</th>\n",
       "    </tr>\n",
       "    <tr>\n",
       "      <th>camera</th>\n",
       "      <th>valid_faces</th>\n",
       "      <th></th>\n",
       "      <th></th>\n",
       "    </tr>\n",
       "  </thead>\n",
       "  <tbody>\n",
       "    <tr>\n",
       "      <th rowspan=\"5\" valign=\"top\">1</th>\n",
       "      <th>0</th>\n",
       "      <td>3086</td>\n",
       "      <td>3086</td>\n",
       "    </tr>\n",
       "    <tr>\n",
       "      <th>1</th>\n",
       "      <td>18049</td>\n",
       "      <td>18049</td>\n",
       "    </tr>\n",
       "    <tr>\n",
       "      <th>2</th>\n",
       "      <td>34744</td>\n",
       "      <td>34744</td>\n",
       "    </tr>\n",
       "    <tr>\n",
       "      <th>3</th>\n",
       "      <td>12903</td>\n",
       "      <td>12903</td>\n",
       "    </tr>\n",
       "    <tr>\n",
       "      <th>4</th>\n",
       "      <td>3404</td>\n",
       "      <td>3404</td>\n",
       "    </tr>\n",
       "    <tr>\n",
       "      <th rowspan=\"5\" valign=\"top\">2</th>\n",
       "      <th>0</th>\n",
       "      <td>7257</td>\n",
       "      <td>7257</td>\n",
       "    </tr>\n",
       "    <tr>\n",
       "      <th>1</th>\n",
       "      <td>39620</td>\n",
       "      <td>39620</td>\n",
       "    </tr>\n",
       "    <tr>\n",
       "      <th>2</th>\n",
       "      <td>24211</td>\n",
       "      <td>24211</td>\n",
       "    </tr>\n",
       "    <tr>\n",
       "      <th>3</th>\n",
       "      <td>1082</td>\n",
       "      <td>1082</td>\n",
       "    </tr>\n",
       "    <tr>\n",
       "      <th>4</th>\n",
       "      <td>16</td>\n",
       "      <td>16</td>\n",
       "    </tr>\n",
       "    <tr>\n",
       "      <th rowspan=\"6\" valign=\"top\">3</th>\n",
       "      <th>0</th>\n",
       "      <td>3411</td>\n",
       "      <td>3411</td>\n",
       "    </tr>\n",
       "    <tr>\n",
       "      <th>1</th>\n",
       "      <td>16798</td>\n",
       "      <td>16798</td>\n",
       "    </tr>\n",
       "    <tr>\n",
       "      <th>2</th>\n",
       "      <td>27400</td>\n",
       "      <td>27400</td>\n",
       "    </tr>\n",
       "    <tr>\n",
       "      <th>3</th>\n",
       "      <td>20187</td>\n",
       "      <td>20187</td>\n",
       "    </tr>\n",
       "    <tr>\n",
       "      <th>4</th>\n",
       "      <td>4348</td>\n",
       "      <td>4348</td>\n",
       "    </tr>\n",
       "    <tr>\n",
       "      <th>5</th>\n",
       "      <td>18</td>\n",
       "      <td>18</td>\n",
       "    </tr>\n",
       "  </tbody>\n",
       "</table>\n",
       "</div>"
      ],
      "text/plain": [
       "                    n_subjects  valid_poses\n",
       "camera valid_faces                         \n",
       "1      0                  3086         3086\n",
       "       1                 18049        18049\n",
       "       2                 34744        34744\n",
       "       3                 12903        12903\n",
       "       4                  3404         3404\n",
       "2      0                  7257         7257\n",
       "       1                 39620        39620\n",
       "       2                 24211        24211\n",
       "       3                  1082         1082\n",
       "       4                    16           16\n",
       "3      0                  3411         3411\n",
       "       1                 16798        16798\n",
       "       2                 27400        27400\n",
       "       3                 20187        20187\n",
       "       4                  4348         4348\n",
       "       5                    18           18"
      ]
     },
     "execution_count": 12,
     "metadata": {},
     "output_type": "execute_result"
    }
   ],
   "source": [
    "subjects_face_distribution"
   ]
  },
  {
   "cell_type": "markdown",
   "metadata": {},
   "source": [
    "## Simple Visualization"
   ]
  },
  {
   "cell_type": "code",
   "execution_count": 13,
   "metadata": {
    "scrolled": false
   },
   "outputs": [],
   "source": [
    "# fig, ax = plt.subplots()\n",
    "# image = cv2.imread('/home/fraza0/Desktop/MEI/TESE/nonverbal_communication_analysis/DATASET_DEP/SYNC/3CLC9VWR/last_frame_vidpc1.png')\n",
    "# # image = cv2.cvtColor(image, cv2.COLOR_BGR2RGB)\n",
    "# # scaled_img = np.interp(image, (image.min(), image.max()), (-1, +1))\n",
    "# ax.set_xlim(-1, 1)\n",
    "# ax.set_ylim(1, -1)\n",
    "# ax.imshow(image, aspect='auto', extent=(-1,1,1,-1), alpha=1, zorder=-1)\n",
    "# colors = ['blue', 'orange', 'green', 'red', 'yellow']\n",
    "# for i in range(len(df['pose_keypoints_2d'])):\n",
    "#     ndf = pd.DataFrame(([frame['pose_keypoints_2d'][i][x:x+3] for x in range(0, len(frame['pose_keypoints_2d'][i]), 3)]), columns=['x', 'y', 'confidence'])\n",
    "#     ax.set_title('Person Keypoints Position')\n",
    "#     ax.scatter(ndf['x'], ndf['y'], c=colors[i])\n",
    "#     ax.annotate(i, (ndf['x'][i], ndf['y'][i]), c='yellow')\n",
    "\n",
    "# plt.show()"
   ]
  },
  {
   "cell_type": "markdown",
   "metadata": {},
   "source": [
    "## Between Shoulders Distance Analysis"
   ]
  },
  {
   "cell_type": "code",
   "execution_count": 14,
   "metadata": {},
   "outputs": [],
   "source": [
    "shoulder_distance = pd.read_csv('shoulder_distance_sample.csv')\n",
    "shoulder_distance = shoulder_distance.round(5)"
   ]
  },
  {
   "cell_type": "code",
   "execution_count": 15,
   "metadata": {
    "scrolled": false
   },
   "outputs": [],
   "source": [
    "# distance_counts = pd.DataFrame(shoulder_distance['between_shoulders_distance'].value_counts())\n",
    "# distance_counts['distance'] = distance_counts.index\n",
    "# distance_counts.sort_values(by='distance')"
   ]
  },
  {
   "cell_type": "code",
   "execution_count": 16,
   "metadata": {},
   "outputs": [
    {
     "name": "stdout",
     "output_type": "stream",
     "text": [
      "Threshold value:\n"
     ]
    },
    {
     "data": {
      "text/plain": [
       "between_shoulders_distance    0.509134\n",
       "dtype: float64"
      ]
     },
     "execution_count": 16,
     "metadata": {},
     "output_type": "execute_result"
    }
   ],
   "source": [
    "print(\"Threshold value:\")\n",
    "shoulder_distance.describe().loc['std'] / shoulder_distance.describe().loc['mean']"
   ]
  },
  {
   "cell_type": "code",
   "execution_count": 17,
   "metadata": {
    "scrolled": false
   },
   "outputs": [
    {
     "ename": "NameError",
     "evalue": "name 'distance_counts' is not defined",
     "output_type": "error",
     "traceback": [
      "\u001b[0;31m---------------------------------------------------------------------------\u001b[0m",
      "\u001b[0;31mNameError\u001b[0m                                 Traceback (most recent call last)",
      "\u001b[0;32m<ipython-input-17-9cfe84e9a3a1>\u001b[0m in \u001b[0;36m<module>\u001b[0;34m\u001b[0m\n\u001b[0;32m----> 1\u001b[0;31m \u001b[0mdistance_counts\u001b[0m\u001b[0;34m[\u001b[0m\u001b[0;34m'distance'\u001b[0m\u001b[0;34m]\u001b[0m\u001b[0;34m.\u001b[0m\u001b[0mhist\u001b[0m\u001b[0;34m(\u001b[0m\u001b[0;34m)\u001b[0m\u001b[0;34m\u001b[0m\u001b[0;34m\u001b[0m\u001b[0m\n\u001b[0m",
      "\u001b[0;31mNameError\u001b[0m: name 'distance_counts' is not defined"
     ]
    }
   ],
   "source": [
    "distance_counts['distance'].hist()"
   ]
  },
  {
   "cell_type": "code",
   "execution_count": null,
   "metadata": {},
   "outputs": [],
   "source": []
  }
 ],
 "metadata": {
  "kernelspec": {
   "display_name": "Python 3.7.5 64-bit ('mei_tese': virtualenv)",
   "language": "python",
   "name": "python37564bitmeitesevirtualenvfa8ee47ef0b64b92842bace2663bdabc"
  },
  "language_info": {
   "codemirror_mode": {
    "name": "ipython",
    "version": 3
   },
   "file_extension": ".py",
   "mimetype": "text/x-python",
   "name": "python",
   "nbconvert_exporter": "python",
   "pygments_lexer": "ipython3",
   "version": "3.7.5"
  }
 },
 "nbformat": 4,
 "nbformat_minor": 4
}
