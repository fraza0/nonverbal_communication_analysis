{
 "cells": [
  {
   "cell_type": "code",
   "execution_count": 1,
   "metadata": {},
   "outputs": [
    {
     "name": "stdout",
     "output_type": "stream",
     "text": [
      "Working Directory: /home/fraza0/Desktop/MEI/TESE/nonverbal_communication_analysis\n"
     ]
    }
   ],
   "source": [
    "import os\n",
    "os.chdir('/home/fraza0/Desktop/MEI/TESE/nonverbal_communication_analysis')\n",
    "print(\"Working Directory:\", os.getcwd())\n",
    "\n",
    "import re\n",
    "import json\n",
    "\n",
    "import pandas as pd\n",
    "import ipywidgets as widgets\n",
    "import numpy as np\n",
    "\n",
    "import matplotlib.pyplot as plt\n",
    "\n",
    "from pathlib import Path\n",
    "from nonverbal_communication_analysis.environment import (DATASET_SYNC,\n",
    "                                                          OPENPOSE_OUTPUT_DIR, OPENFACE_OUTPUT_DIR,\n",
    "                                                          DENSEPOSE_OUTPUT_DIR,\n",
    "                                                          VALID_OUTPUT_FILE_TYPES)"
   ]
  },
  {
   "cell_type": "code",
   "execution_count": 2,
   "metadata": {
    "scrolled": true
   },
   "outputs": [],
   "source": [
    "GROUPS = ['3CLC9VWR', '4ZAI4OPO', '0436INH4']\n",
    "GROUPS = GROUPS[:1]"
   ]
  },
  {
   "cell_type": "code",
   "execution_count": 3,
   "metadata": {},
   "outputs": [
    {
     "data": {
      "text/html": [
       "<div>\n",
       "<style scoped>\n",
       "    .dataframe tbody tr th:only-of-type {\n",
       "        vertical-align: middle;\n",
       "    }\n",
       "\n",
       "    .dataframe tbody tr th {\n",
       "        vertical-align: top;\n",
       "    }\n",
       "\n",
       "    .dataframe thead th {\n",
       "        text-align: right;\n",
       "    }\n",
       "</style>\n",
       "<table border=\"1\" class=\"dataframe\">\n",
       "  <thead>\n",
       "    <tr style=\"text-align: right;\">\n",
       "      <th></th>\n",
       "      <th>group</th>\n",
       "      <th>task</th>\n",
       "      <th>camera</th>\n",
       "      <th>frame</th>\n",
       "      <th>n_subjects</th>\n",
       "      <th>n_valids</th>\n",
       "    </tr>\n",
       "  </thead>\n",
       "  <tbody>\n",
       "  </tbody>\n",
       "</table>\n",
       "</div>"
      ],
      "text/plain": [
       "Empty DataFrame\n",
       "Columns: [group, task, camera, frame, n_subjects, n_valids]\n",
       "Index: []"
      ]
     },
     "execution_count": 3,
     "metadata": {},
     "output_type": "execute_result"
    }
   ],
   "source": [
    "df_structure = pd.DataFrame(columns=['group', 'task', 'camera', 'frame', 'n_subjects', 'n_valids'])\n",
    "df_structure"
   ]
  },
  {
   "cell_type": "markdown",
   "metadata": {},
   "source": [
    "# Face"
   ]
  },
  {
   "cell_type": "code",
   "execution_count": 4,
   "metadata": {},
   "outputs": [],
   "source": [
    "def is_valid_face(keypoints: dict):\n",
    "    invalid_entries = 0\n",
    "    \n",
    "    if np.sum(list(keypoints.values())) == 0:\n",
    "        return 0\n",
    "    return 1"
   ]
  },
  {
   "cell_type": "markdown",
   "metadata": {},
   "source": [
    "## OpenPose"
   ]
  },
  {
   "cell_type": "code",
   "execution_count": 5,
   "metadata": {
    "scrolled": true
   },
   "outputs": [
    {
     "name": "stdout",
     "output_type": "stream",
     "text": [
      "File exists\n",
      "CPU times: user 129 ms, sys: 51 ms, total: 180 ms\n",
      "Wall time: 813 ms\n"
     ]
    }
   ],
   "source": [
    "%%time\n",
    "openpose_face = df_structure.copy()\n",
    "\n",
    "for GROUP_ID in GROUPS:\n",
    "    if not Path(GROUP_ID+'_processed_face_openpose_df.csv').is_file():\n",
    "        group_path = OPENPOSE_OUTPUT_DIR / GROUP_ID / (GROUP_ID + '_processed')\n",
    "        tasks_paths = [x for x in group_path.iterdir() if 'task' in x.name]\n",
    "        for task_path in tasks_paths:\n",
    "            input_files = [x for x in task_path.iterdir() if x.suffix in VALID_OUTPUT_FILE_TYPES]\n",
    "            total_files = len(input_files)\n",
    "            for file in input_files[:]:\n",
    "                frame = int(re.search(r'(?<=_)(\\d{12})(?=_)',\n",
    "                                          file.name).group(0))\n",
    "                data = json.load(open(file))\n",
    "                df = pd.json_normalize(data['subjects'], max_level=0)\n",
    "                n_subjects = len(df)\n",
    "                valid_subjects = dict()\n",
    "                for _, subject in df.iterrows():\n",
    "                    camera_framework_data = subject['face']['openpose']\n",
    "                    for camera, framework_data in camera_framework_data.items():\n",
    "                        if camera not in valid_subjects:\n",
    "                            valid_subjects[camera] = list()\n",
    "                        if is_valid_face(framework_data):\n",
    "                            valid_subjects[camera].append(subject['id'])\n",
    "                    \n",
    "                for camera, subjects in valid_subjects.items():\n",
    "                    openpose_face = openpose_face.append({'group': GROUP_ID,\n",
    "                                                  'task': task_path.name,\n",
    "                                                  'camera': camera,\n",
    "                                                  'frame': frame,\n",
    "                                                  'n_subjects': n_subjects,\n",
    "                                                  'n_valids': len(subjects)},\n",
    "                                                  ignore_index=True)\n",
    "        openpose_face.to_csv(GROUP_ID+'_processed_face_openpose_df.csv')\n",
    "    else:\n",
    "        print(\"File exists\")\n",
    "        tmp_openpose_face = pd.read_csv(GROUP_ID+'_processed_face_openpose_df.csv', usecols=list(openpose_face.columns))\n",
    "        openpose_face = openpose_face.append(tmp_openpose_face)"
   ]
  },
  {
   "cell_type": "code",
   "execution_count": 6,
   "metadata": {
    "scrolled": false
   },
   "outputs": [
    {
     "data": {
      "text/html": [
       "<div>\n",
       "<style scoped>\n",
       "    .dataframe tbody tr th:only-of-type {\n",
       "        vertical-align: middle;\n",
       "    }\n",
       "\n",
       "    .dataframe tbody tr th {\n",
       "        vertical-align: top;\n",
       "    }\n",
       "\n",
       "    .dataframe thead th {\n",
       "        text-align: right;\n",
       "    }\n",
       "</style>\n",
       "<table border=\"1\" class=\"dataframe\">\n",
       "  <thead>\n",
       "    <tr style=\"text-align: right;\">\n",
       "      <th></th>\n",
       "      <th>group</th>\n",
       "      <th>task</th>\n",
       "      <th>camera</th>\n",
       "      <th>frame</th>\n",
       "      <th>n_subjects</th>\n",
       "      <th>n_valids</th>\n",
       "    </tr>\n",
       "  </thead>\n",
       "  <tbody>\n",
       "    <tr>\n",
       "      <th>0</th>\n",
       "      <td>3CLC9VWR</td>\n",
       "      <td>task_1</td>\n",
       "      <td>pc1</td>\n",
       "      <td>27222</td>\n",
       "      <td>4</td>\n",
       "      <td>0</td>\n",
       "    </tr>\n",
       "    <tr>\n",
       "      <th>1</th>\n",
       "      <td>3CLC9VWR</td>\n",
       "      <td>task_1</td>\n",
       "      <td>pc2</td>\n",
       "      <td>27222</td>\n",
       "      <td>4</td>\n",
       "      <td>1</td>\n",
       "    </tr>\n",
       "    <tr>\n",
       "      <th>2</th>\n",
       "      <td>3CLC9VWR</td>\n",
       "      <td>task_1</td>\n",
       "      <td>pc3</td>\n",
       "      <td>27222</td>\n",
       "      <td>4</td>\n",
       "      <td>2</td>\n",
       "    </tr>\n",
       "    <tr>\n",
       "      <th>3</th>\n",
       "      <td>3CLC9VWR</td>\n",
       "      <td>task_1</td>\n",
       "      <td>pc1</td>\n",
       "      <td>22033</td>\n",
       "      <td>4</td>\n",
       "      <td>3</td>\n",
       "    </tr>\n",
       "    <tr>\n",
       "      <th>4</th>\n",
       "      <td>3CLC9VWR</td>\n",
       "      <td>task_1</td>\n",
       "      <td>pc2</td>\n",
       "      <td>22033</td>\n",
       "      <td>4</td>\n",
       "      <td>1</td>\n",
       "    </tr>\n",
       "  </tbody>\n",
       "</table>\n",
       "</div>"
      ],
      "text/plain": [
       "      group    task camera  frame n_subjects n_valids\n",
       "0  3CLC9VWR  task_1    pc1  27222          4        0\n",
       "1  3CLC9VWR  task_1    pc2  27222          4        1\n",
       "2  3CLC9VWR  task_1    pc3  27222          4        2\n",
       "3  3CLC9VWR  task_1    pc1  22033          4        3\n",
       "4  3CLC9VWR  task_1    pc2  22033          4        1"
      ]
     },
     "execution_count": 6,
     "metadata": {},
     "output_type": "execute_result"
    }
   ],
   "source": [
    "openpose_face.head()"
   ]
  },
  {
   "cell_type": "markdown",
   "metadata": {},
   "source": [
    "## OpenFace"
   ]
  },
  {
   "cell_type": "code",
   "execution_count": 7,
   "metadata": {},
   "outputs": [
    {
     "name": "stdout",
     "output_type": "stream",
     "text": [
      "File exists\n",
      "CPU times: user 8.72 ms, sys: 0 ns, total: 8.72 ms\n",
      "Wall time: 77.9 ms\n"
     ]
    }
   ],
   "source": [
    "%%time\n",
    "openface_face = df_structure.copy()\n",
    "\n",
    "for GROUP_ID in GROUPS:\n",
    "    if not Path(GROUP_ID+'_processed_face_openface_df.csv').is_file():\n",
    "        group_path = OPENFACE_OUTPUT_DIR / GROUP_ID / (GROUP_ID + '_processed')\n",
    "        tasks_paths = [x for x in group_path.iterdir() if 'task' in x.name]\n",
    "        for task_path in tasks_paths:\n",
    "            cameras_paths = [x for x in task_path.iterdir() if 'pc' in x.name]\n",
    "            for camera_path in cameras_paths:                \n",
    "                input_files = [x for x in camera_path.iterdir() if x.suffix in VALID_OUTPUT_FILE_TYPES]\n",
    "                total_files = len(input_files)\n",
    "                for file in input_files[:]:\n",
    "                    frame = int(re.search(r'(?<=_)(\\d{12})(?=_)',\n",
    "                                              file.name).group(0))\n",
    "                    data = json.load(open(file))\n",
    "                    df = pd.json_normalize(data['subjects'], max_level=0)\n",
    "                    n_subjects = len(df)\n",
    "                    openface_face = openface_face.append({'group': GROUP_ID,\n",
    "                                                          'task': task_path.name,\n",
    "                                                          'camera': camera_path.name,\n",
    "                                                          'frame': frame,\n",
    "                                                          'n_subjects': n_subjects,\n",
    "                                                          'n_valids': n_subjects},\n",
    "                                                          ignore_index=True)\n",
    "        openface_face.to_csv(GROUP_ID+'_processed_face_openface_df.csv')\n",
    "    else:\n",
    "        print(\"File exists\")\n",
    "        tmp_openface_face = pd.read_csv(GROUP_ID+'_processed_face_openface_df.csv', usecols=list(openface_face.columns))\n",
    "        openface_face = openface_face.append(tmp_openface_face)"
   ]
  },
  {
   "cell_type": "code",
   "execution_count": 8,
   "metadata": {},
   "outputs": [
    {
     "data": {
      "text/html": [
       "<div>\n",
       "<style scoped>\n",
       "    .dataframe tbody tr th:only-of-type {\n",
       "        vertical-align: middle;\n",
       "    }\n",
       "\n",
       "    .dataframe tbody tr th {\n",
       "        vertical-align: top;\n",
       "    }\n",
       "\n",
       "    .dataframe thead th {\n",
       "        text-align: right;\n",
       "    }\n",
       "</style>\n",
       "<table border=\"1\" class=\"dataframe\">\n",
       "  <thead>\n",
       "    <tr style=\"text-align: right;\">\n",
       "      <th></th>\n",
       "      <th>group</th>\n",
       "      <th>task</th>\n",
       "      <th>camera</th>\n",
       "      <th>frame</th>\n",
       "      <th>n_subjects</th>\n",
       "      <th>n_valids</th>\n",
       "    </tr>\n",
       "  </thead>\n",
       "  <tbody>\n",
       "    <tr>\n",
       "      <th>0</th>\n",
       "      <td>3CLC9VWR</td>\n",
       "      <td>task_1</td>\n",
       "      <td>pc2</td>\n",
       "      <td>3609</td>\n",
       "      <td>1</td>\n",
       "      <td>1</td>\n",
       "    </tr>\n",
       "    <tr>\n",
       "      <th>1</th>\n",
       "      <td>3CLC9VWR</td>\n",
       "      <td>task_1</td>\n",
       "      <td>pc2</td>\n",
       "      <td>21065</td>\n",
       "      <td>1</td>\n",
       "      <td>1</td>\n",
       "    </tr>\n",
       "    <tr>\n",
       "      <th>2</th>\n",
       "      <td>3CLC9VWR</td>\n",
       "      <td>task_1</td>\n",
       "      <td>pc2</td>\n",
       "      <td>3603</td>\n",
       "      <td>1</td>\n",
       "      <td>1</td>\n",
       "    </tr>\n",
       "    <tr>\n",
       "      <th>3</th>\n",
       "      <td>3CLC9VWR</td>\n",
       "      <td>task_1</td>\n",
       "      <td>pc2</td>\n",
       "      <td>21079</td>\n",
       "      <td>1</td>\n",
       "      <td>1</td>\n",
       "    </tr>\n",
       "    <tr>\n",
       "      <th>4</th>\n",
       "      <td>3CLC9VWR</td>\n",
       "      <td>task_1</td>\n",
       "      <td>pc2</td>\n",
       "      <td>21078</td>\n",
       "      <td>1</td>\n",
       "      <td>1</td>\n",
       "    </tr>\n",
       "  </tbody>\n",
       "</table>\n",
       "</div>"
      ],
      "text/plain": [
       "      group    task camera  frame n_subjects n_valids\n",
       "0  3CLC9VWR  task_1    pc2   3609          1        1\n",
       "1  3CLC9VWR  task_1    pc2  21065          1        1\n",
       "2  3CLC9VWR  task_1    pc2   3603          1        1\n",
       "3  3CLC9VWR  task_1    pc2  21079          1        1\n",
       "4  3CLC9VWR  task_1    pc2  21078          1        1"
      ]
     },
     "execution_count": 8,
     "metadata": {},
     "output_type": "execute_result"
    }
   ],
   "source": [
    "openface_face.head()"
   ]
  },
  {
   "cell_type": "markdown",
   "metadata": {},
   "source": [
    "## Comparison: OpenPose VS OpenFace"
   ]
  },
  {
   "cell_type": "code",
   "execution_count": 9,
   "metadata": {
    "scrolled": false
   },
   "outputs": [
    {
     "data": {
      "image/png": "[encoded data removed]",
      "text/plain": [
       "<Figure size 1080x360 with 3 Axes>"
      ]
     },
     "metadata": {
      "needs_background": "light"
     },
     "output_type": "display_data"
    }
   ],
   "source": [
    "fig, axes = plt.subplots(nrows=1, ncols=3, sharey=True, sharex=True, figsize=(15,5))\n",
    "fig.suptitle('OpenPose VS OpenFace - Valid Subjects\\' Face Detection', size=15)\n",
    "axes[1].set_xlabel('Subjects per frame', size=15)\n",
    "axes[0].set_ylabel('Frame count', size=15)\n",
    "\n",
    "TOTAL_FRAMES = len(openpose_face)/3\n",
    "\n",
    "def normalize(vector: list, _min=0, _max=TOTAL_FRAMES):\n",
    "    return (vector-_min) / (_max-_min)\n",
    "\n",
    "for idx, ax in enumerate(axes):\n",
    "    idx += 1\n",
    "    ax.set_title('Camera pc'+str(idx))\n",
    "    openpose_data = openpose_face[openpose_face['camera']=='pc'+str(idx)]['n_valids'].value_counts()\n",
    "    openpose_bars = ax.bar(x=openpose_data.index-0.2, height=normalize(openpose_data.values), width=0.4, color='#3a8e86', label='OpenPose')\n",
    "    openface_data = openface_face[openface_face['camera']=='pc'+str(idx)]['n_valids'].value_counts()\n",
    "    openface_data_len = len(openface_face[openface_face['camera']=='pc'+str(idx)])\n",
    "    openface_missing = TOTAL_FRAMES - openface_data_len\n",
    "    if openface_missing != 0:\n",
    "        openface_data = openface_data.append(pd.Series([openface_missing], index=[0]))\n",
    "    openface_bars = ax.bar(x=openface_data.index+0.2, height=normalize(openface_data.values), width=0.4, color='#f4c05f', label='OpenFace')\n",
    "    ax.set_xlim([-1, 5.2])\n",
    "    ax.set_xticks(np.arange(6))\n",
    "    ax.set_ylim([0, 1.1])\n",
    "    ax.legend()\n",
    "    for p in ax.patches:\n",
    "        width, height = p.get_width(), p.get_height()\n",
    "        x, y = p.get_xy()\n",
    "        percentage = height*100\n",
    "        ax.annotate('%.1f%%' % percentage, (x-0.1, y + height))\n",
    "plt.show()"
   ]
  },
  {
   "cell_type": "markdown",
   "metadata": {},
   "source": [
    "# Pose"
   ]
  },
  {
   "cell_type": "markdown",
   "metadata": {},
   "source": [
    "## OpenPose"
   ]
  },
  {
   "cell_type": "code",
   "execution_count": 10,
   "metadata": {},
   "outputs": [
    {
     "name": "stdout",
     "output_type": "stream",
     "text": [
      "File exists\n",
      "CPU times: user 125 ms, sys: 46.2 ms, total: 172 ms\n",
      "Wall time: 519 ms\n"
     ]
    }
   ],
   "source": [
    "%%time\n",
    "openpose_pose = df_structure.copy()\n",
    "\n",
    "for GROUP_ID in GROUPS:\n",
    "    if not Path(GROUP_ID+'_processed_pose_openpose_df.csv').is_file():\n",
    "        group_path = OPENPOSE_OUTPUT_DIR / GROUP_ID / (GROUP_ID + '_processed')\n",
    "        tasks_paths = [x for x in group_path.iterdir() if 'task' in x.name]\n",
    "        for task_path in tasks_paths:\n",
    "            input_files = [x for x in task_path.iterdir() if x.suffix in VALID_OUTPUT_FILE_TYPES]\n",
    "            total_files = len(input_files)\n",
    "            for file in input_files[:]:\n",
    "                frame = int(re.search(r'(?<=_)(\\d{12})(?=_)',\n",
    "                                          file.name).group(0))\n",
    "                data = json.load(open(file))\n",
    "                df = pd.json_normalize(data['subjects'], max_level=0)\n",
    "                n_subjects = len(df)\n",
    "                valid_subjects = dict()\n",
    "                for _, subject in df.iterrows():\n",
    "                    camera_framework_data = subject['pose']['openpose']\n",
    "                    for camera, framework_data in camera_framework_data.items():\n",
    "                        if camera not in valid_subjects:\n",
    "                            valid_subjects[camera] = list()\n",
    "                        valid_subjects[camera].append(subject['id'])\n",
    "                \n",
    "                for camera, subjects in valid_subjects.items():\n",
    "                    openpose_pose = openpose_pose.append({'group': GROUP_ID,\n",
    "                                                      'task': task_path.name,\n",
    "                                                      'camera': camera,\n",
    "                                                      'frame': frame,\n",
    "                                                      'n_subjects': n_subjects,\n",
    "                                                      'n_valids': len(valid_subjects[camera])},\n",
    "                                                      ignore_index=True)\n",
    "        print(openpose_pose)\n",
    "        #openpose_pose.to_csv(GROUP_ID+'_processed_pose_openpose_df.csv')\n",
    "    else:\n",
    "        print(\"File exists\")\n",
    "        tmp_openpose_pose = pd.read_csv(GROUP_ID+'_processed_pose_openpose_df.csv', usecols=list(openpose_pose.columns))\n",
    "        openpose_pose = openpose_pose.append(tmp_openpose_pose)"
   ]
  },
  {
   "cell_type": "code",
   "execution_count": 11,
   "metadata": {},
   "outputs": [
    {
     "data": {
      "text/html": [
       "<div>\n",
       "<style scoped>\n",
       "    .dataframe tbody tr th:only-of-type {\n",
       "        vertical-align: middle;\n",
       "    }\n",
       "\n",
       "    .dataframe tbody tr th {\n",
       "        vertical-align: top;\n",
       "    }\n",
       "\n",
       "    .dataframe thead th {\n",
       "        text-align: right;\n",
       "    }\n",
       "</style>\n",
       "<table border=\"1\" class=\"dataframe\">\n",
       "  <thead>\n",
       "    <tr style=\"text-align: right;\">\n",
       "      <th></th>\n",
       "      <th>group</th>\n",
       "      <th>task</th>\n",
       "      <th>camera</th>\n",
       "      <th>frame</th>\n",
       "      <th>n_subjects</th>\n",
       "      <th>n_valids</th>\n",
       "    </tr>\n",
       "  </thead>\n",
       "  <tbody>\n",
       "    <tr>\n",
       "      <th>0</th>\n",
       "      <td>3CLC9VWR</td>\n",
       "      <td>task_1</td>\n",
       "      <td>pc1</td>\n",
       "      <td>27222</td>\n",
       "      <td>4</td>\n",
       "      <td>4</td>\n",
       "    </tr>\n",
       "    <tr>\n",
       "      <th>1</th>\n",
       "      <td>3CLC9VWR</td>\n",
       "      <td>task_1</td>\n",
       "      <td>pc2</td>\n",
       "      <td>27222</td>\n",
       "      <td>4</td>\n",
       "      <td>4</td>\n",
       "    </tr>\n",
       "    <tr>\n",
       "      <th>2</th>\n",
       "      <td>3CLC9VWR</td>\n",
       "      <td>task_1</td>\n",
       "      <td>pc3</td>\n",
       "      <td>27222</td>\n",
       "      <td>4</td>\n",
       "      <td>4</td>\n",
       "    </tr>\n",
       "    <tr>\n",
       "      <th>3</th>\n",
       "      <td>3CLC9VWR</td>\n",
       "      <td>task_1</td>\n",
       "      <td>pc1</td>\n",
       "      <td>22033</td>\n",
       "      <td>4</td>\n",
       "      <td>4</td>\n",
       "    </tr>\n",
       "    <tr>\n",
       "      <th>4</th>\n",
       "      <td>3CLC9VWR</td>\n",
       "      <td>task_1</td>\n",
       "      <td>pc2</td>\n",
       "      <td>22033</td>\n",
       "      <td>4</td>\n",
       "      <td>4</td>\n",
       "    </tr>\n",
       "  </tbody>\n",
       "</table>\n",
       "</div>"
      ],
      "text/plain": [
       "      group    task camera  frame n_subjects n_valids\n",
       "0  3CLC9VWR  task_1    pc1  27222          4        4\n",
       "1  3CLC9VWR  task_1    pc2  27222          4        4\n",
       "2  3CLC9VWR  task_1    pc3  27222          4        4\n",
       "3  3CLC9VWR  task_1    pc1  22033          4        4\n",
       "4  3CLC9VWR  task_1    pc2  22033          4        4"
      ]
     },
     "execution_count": 11,
     "metadata": {},
     "output_type": "execute_result"
    }
   ],
   "source": [
    "openpose_pose.head()"
   ]
  },
  {
   "cell_type": "markdown",
   "metadata": {},
   "source": [
    "## DensePose"
   ]
  },
  {
   "cell_type": "code",
   "execution_count": 12,
   "metadata": {},
   "outputs": [
    {
     "name": "stdout",
     "output_type": "stream",
     "text": [
      "File exists\n",
      "CPU times: user 145 ms, sys: 29.6 ms, total: 175 ms\n",
      "Wall time: 563 ms\n"
     ]
    }
   ],
   "source": [
    "%%time\n",
    "densepose_pose = df_structure.copy()\n",
    "\n",
    "for GROUP_ID in GROUPS:\n",
    "    if not Path(GROUP_ID+'_processed_pose_densepose_df.csv').is_file():\n",
    "        group_path = DENSEPOSE_OUTPUT_DIR / GROUP_ID / (GROUP_ID + '_processed')\n",
    "        tasks_paths = [x for x in group_path.iterdir() if 'task' in x.name]\n",
    "        for task_path in tasks_paths:\n",
    "            input_files = [x for x in task_path.iterdir() if x.suffix in VALID_OUTPUT_FILE_TYPES]\n",
    "            total_files = len(input_files)\n",
    "            for file in input_files[:]:\n",
    "                frame = int(re.search(r'(?<=_)(\\d{12})(?=_)',\n",
    "                                          file.name).group(0))\n",
    "                data = json.load(open(file))\n",
    "                df = pd.json_normalize(data['subjects'], max_level=0)\n",
    "                n_subjects = len(df)\n",
    "                valid_subjects = dict()\n",
    "                for _, subject in df.iterrows():\n",
    "                    camera_framework_data = subject['pose']['densepose']\n",
    "                    for camera, framework_data in camera_framework_data.items():\n",
    "                        if camera not in valid_subjects:\n",
    "                            valid_subjects[camera] = list()\n",
    "                        valid_subjects[camera].append(subject['id'])\n",
    "                        \n",
    "                for camera, subjects in valid_subjects.items():\n",
    "                    densepose_pose = densepose_pose.append({'group': GROUP_ID,\n",
    "                                                          'task': task_path.name,\n",
    "                                                          'camera': camera,\n",
    "                                                          'frame': frame,\n",
    "                                                          'n_subjects': n_subjects,\n",
    "                                                          'n_valids': len(valid_subjects[camera])},\n",
    "                                                          ignore_index=True)\n",
    "        densepose_pose.to_csv(GROUP_ID+'_processed_pose_densepose_df.csv')\n",
    "    else:\n",
    "        print(\"File exists\")\n",
    "        tmp_densepose_pose = pd.read_csv(GROUP_ID+'_processed_pose_densepose_df.csv', usecols=list(densepose_pose.columns))\n",
    "        densepose_pose = densepose_pose.append(tmp_densepose_pose)"
   ]
  },
  {
   "cell_type": "code",
   "execution_count": 13,
   "metadata": {},
   "outputs": [
    {
     "data": {
      "text/html": [
       "<div>\n",
       "<style scoped>\n",
       "    .dataframe tbody tr th:only-of-type {\n",
       "        vertical-align: middle;\n",
       "    }\n",
       "\n",
       "    .dataframe tbody tr th {\n",
       "        vertical-align: top;\n",
       "    }\n",
       "\n",
       "    .dataframe thead th {\n",
       "        text-align: right;\n",
       "    }\n",
       "</style>\n",
       "<table border=\"1\" class=\"dataframe\">\n",
       "  <thead>\n",
       "    <tr style=\"text-align: right;\">\n",
       "      <th></th>\n",
       "      <th>group</th>\n",
       "      <th>task</th>\n",
       "      <th>camera</th>\n",
       "      <th>frame</th>\n",
       "      <th>n_subjects</th>\n",
       "      <th>n_valids</th>\n",
       "    </tr>\n",
       "  </thead>\n",
       "  <tbody>\n",
       "    <tr>\n",
       "      <th>0</th>\n",
       "      <td>3CLC9VWR</td>\n",
       "      <td>task_1</td>\n",
       "      <td>pc1</td>\n",
       "      <td>27222</td>\n",
       "      <td>4</td>\n",
       "      <td>4</td>\n",
       "    </tr>\n",
       "    <tr>\n",
       "      <th>1</th>\n",
       "      <td>3CLC9VWR</td>\n",
       "      <td>task_1</td>\n",
       "      <td>pc2</td>\n",
       "      <td>27222</td>\n",
       "      <td>4</td>\n",
       "      <td>4</td>\n",
       "    </tr>\n",
       "    <tr>\n",
       "      <th>2</th>\n",
       "      <td>3CLC9VWR</td>\n",
       "      <td>task_1</td>\n",
       "      <td>pc3</td>\n",
       "      <td>27222</td>\n",
       "      <td>4</td>\n",
       "      <td>4</td>\n",
       "    </tr>\n",
       "    <tr>\n",
       "      <th>3</th>\n",
       "      <td>3CLC9VWR</td>\n",
       "      <td>task_1</td>\n",
       "      <td>pc1</td>\n",
       "      <td>22033</td>\n",
       "      <td>4</td>\n",
       "      <td>4</td>\n",
       "    </tr>\n",
       "    <tr>\n",
       "      <th>4</th>\n",
       "      <td>3CLC9VWR</td>\n",
       "      <td>task_1</td>\n",
       "      <td>pc2</td>\n",
       "      <td>22033</td>\n",
       "      <td>4</td>\n",
       "      <td>4</td>\n",
       "    </tr>\n",
       "  </tbody>\n",
       "</table>\n",
       "</div>"
      ],
      "text/plain": [
       "      group    task camera  frame n_subjects n_valids\n",
       "0  3CLC9VWR  task_1    pc1  27222          4        4\n",
       "1  3CLC9VWR  task_1    pc2  27222          4        4\n",
       "2  3CLC9VWR  task_1    pc3  27222          4        4\n",
       "3  3CLC9VWR  task_1    pc1  22033          4        4\n",
       "4  3CLC9VWR  task_1    pc2  22033          4        4"
      ]
     },
     "execution_count": 13,
     "metadata": {},
     "output_type": "execute_result"
    }
   ],
   "source": [
    "densepose_pose.head()"
   ]
  },
  {
   "cell_type": "code",
   "execution_count": 18,
   "metadata": {
    "scrolled": true
   },
   "outputs": [
    {
     "data": {
      "text/plain": [
       "4    72136\n",
       "Name: n_valids, dtype: int64"
      ]
     },
     "execution_count": 18,
     "metadata": {},
     "output_type": "execute_result"
    }
   ],
   "source": [
    "openpose_pose[openpose_pose['camera']=='pc'+str(3)]['n_valids'].value_counts()"
   ]
  },
  {
   "cell_type": "code",
   "execution_count": 14,
   "metadata": {},
   "outputs": [
    {
     "data": {
      "image/png": "[encoded data removed]",
      "text/plain": [
       "<Figure size 1080x360 with 3 Axes>"
      ]
     },
     "metadata": {
      "needs_background": "light"
     },
     "output_type": "display_data"
    }
   ],
   "source": [
    "fig, axes = plt.subplots(nrows=1, ncols=3, sharey=True, sharex=True, figsize=(15,5))\n",
    "fig.suptitle('OpenPose VS DensePose - Valid Subjects\\' Pose Detection', size=15)\n",
    "axes[1].set_xlabel('Subjects per frame', size=15)\n",
    "axes[0].set_ylabel('Frame count', size=15)\n",
    "\n",
    "for idx, ax in enumerate(axes):\n",
    "    idx += 1\n",
    "    ax.set_title('Camera pc'+str(idx))\n",
    "    openpose_data = openpose_pose[openpose_pose['camera']=='pc'+str(idx)]['n_valids'].value_counts()\n",
    "    openpose_bars = ax.bar(x=openpose_data.index-0.2, height=normalize(openpose_data.values), width=0.4, color='#3a8e86', label='OpenPose')\n",
    "    densepose_data = densepose_pose[densepose_pose['camera']=='pc'+str(idx)]['n_valids'].value_counts()\n",
    "    densepose_bars = ax.bar(x=densepose_data.index+0.2, height=normalize(densepose_data.values), width=0.4, color='#6666ff', label='DensePose')\n",
    "    ax.set_xlim([-1, 5.2])\n",
    "    ax.set_xticks(np.arange(6))\n",
    "    ax.set_ylim([0, 1.05])\n",
    "    ax.legend()\n",
    "    for p in ax.patches:\n",
    "        width, height = p.get_width(), p.get_height()\n",
    "        x, y = p.get_xy()\n",
    "        percentage = height*100\n",
    "        ax.annotate('%.1f%%' % percentage, (x-0.1, y + height))\n",
    "plt.show()"
   ]
  },
  {
   "cell_type": "code",
   "execution_count": null,
   "metadata": {},
   "outputs": [],
   "source": []
  }
 ],
 "metadata": {
  "kernelspec": {
   "display_name": "Python 3.7.5 64-bit ('mei_tese': virtualenv)",
   "language": "python",
   "name": "python37564bitmeitesevirtualenvfa8ee47ef0b64b92842bace2663bdabc"
  },
  "language_info": {
   "codemirror_mode": {
    "name": "ipython",
    "version": 3
   },
   "file_extension": ".py",
   "mimetype": "text/x-python",
   "name": "python",
   "nbconvert_exporter": "python",
   "pygments_lexer": "ipython3",
   "version": "3.7.5"
  }
 },
 "nbformat": 4,
 "nbformat_minor": 4
}
