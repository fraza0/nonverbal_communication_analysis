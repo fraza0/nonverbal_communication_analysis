{
 "cells": [
  {
   "cell_type": "code",
   "execution_count": 33,
   "metadata": {},
   "outputs": [
    {
     "name": "stdout",
     "output_type": "stream",
     "text": [
      "Working Directory: /home/fraza0/Desktop/MEI/TESE/nonverbal_communication_analysis\n"
     ]
    }
   ],
   "source": [
    "import os\n",
    "os.chdir('/home/fraza0/Desktop/MEI/TESE/nonverbal_communication_analysis')\n",
    "print(\"Working Directory:\", os.getcwd())\n",
    "\n",
    "import cv2\n",
    "import json\n",
    "import matplotlib.pyplot as plt\n",
    "from pathlib import Path\n",
    "PATH = Path('/home/fraza0/Desktop/MEI/TESE/nonverbal_communication_analysis/DATASET_DEP/DENSEPOSE/3CLC9VWR/task_1/')\n",
    "FRAME_FILENAME = 'frame_000000000013.json'"
   ]
  },
  {
   "cell_type": "code",
   "execution_count": 22,
   "metadata": {},
   "outputs": [
    {
     "data": {
      "text/plain": [
       "PosixPath('/home/fraza0/Desktop/MEI/TESE/nonverbal_communication_analysis/DATASET_DEP/DENSEPOSE/3CLC9VWR/task_1/pc1/frame_000000000013.json')"
      ]
     },
     "execution_count": 22,
     "metadata": {},
     "output_type": "execute_result"
    }
   ],
   "source": [
    "CAMERA = 'pc1'\n",
    "PATH_FRAME = PATH / CAMERA / FRAME_FILENAME\n",
    "PATH_FRAME"
   ]
  },
  {
   "cell_type": "code",
   "execution_count": 45,
   "metadata": {},
   "outputs": [],
   "source": [
    "frame_img = cv2.imread(str(PATH / 'out_img.png'))\n",
    "frame_img = cv2.cvtColor(frame_img, cv2.COLOR_BGR2RGB)"
   ]
  },
  {
   "cell_type": "code",
   "execution_count": 46,
   "metadata": {
    "scrolled": true
   },
   "outputs": [],
   "source": [
    "frame_file = json.load(open(PATH_FRAME))"
   ]
  },
  {
   "cell_type": "code",
   "execution_count": 52,
   "metadata": {},
   "outputs": [
    {
     "data": {
      "text/plain": [
       "{'0': {'mid_hip': [316.719421, 218.136383, 1.881245],\n",
       "  'right_hip': [312.226776, 213.638184, 1.881245],\n",
       "  'neck': [313.225128, 129.171936, 5.475732],\n",
       "  'right_eye': [271.293854, 109.679726, 2.719794],\n",
       "  'left_knee': [259.313477, 241.627014, -1.378499],\n",
       "  'left_shoulder': [321.212036, 136.668945, 5.475732],\n",
       "  'right_knee': [263.306946, 151.662949, -0.345908],\n",
       "  'right_elbow': [290.262756, 140.667343, 8.177367],\n",
       "  'right_ear': [301.244751, 110.679321, 0.970927],\n",
       "  'right_shoulder': [305.23822, 121.674927, 7.067063],\n",
       "  'left_eye': [275.287323, 114.677727, 8.231037],\n",
       "  'score': 0.997135,\n",
       "  'left_hip': [321.212036, 222.634598, 4.247626],\n",
       "  'nose': [271.293854, 116.676926, 8.302691],\n",
       "  'right_ankle': [284.272583, 241.627014, -2.90455],\n",
       "  'left_ankle': [354.158051, 241.627014, -2.959468],\n",
       "  'left_elbow': [294.256226, 187.648575, 8.296594],\n",
       "  'left_wrist': [260.311859, 169.655762, 9.17129],\n",
       "  'left_ear': [296.25296, 115.677322, 9.328206],\n",
       "  'right_wrist': [257.316772, 141.666946, 7.756568]},\n",
       " '1': {'mid_hip': [90.656174, 211.488373, 0.095597],\n",
       "  'right_hip': [81.229919, 210.489532, 0.271609],\n",
       "  'neck': [101.57077, 132.079712, 4.116951],\n",
       "  'right_eye': [129.849518, 109.605576, 7.893521],\n",
       "  'left_knee': [122.90387, 142.567657, -1.178205],\n",
       "  'left_shoulder': [110.997025, 129.582596, 4.116951],\n",
       "  'right_knee': [107.028076, 165.541229, -0.155386],\n",
       "  'right_elbow': [132.826233, 178.526291, 3.317343],\n",
       "  'right_ear': [115.958206, 108.60672, 7.7149],\n",
       "  'right_shoulder': [92.144524, 134.576843, 5.325311],\n",
       "  'left_eye': [131.834, 108.60672, 4.754033],\n",
       "  'score': 0.992344,\n",
       "  'left_hip': [100.08242, 212.487228, 0.095597],\n",
       "  'nose': [131.834, 113.600975, 8.080929],\n",
       "  'right_ankle': [54.439526, 219.479187, -1.273848],\n",
       "  'left_ankle': [101.074654, 212.487228, -1.883275],\n",
       "  'left_elbow': [116.950447, 144.565353, 1.079358],\n",
       "  'left_wrist': [131.834, 145.564209, 4.488465],\n",
       "  'left_ear': [98.097946, 105.610168, 2.500051],\n",
       "  'right_wrist': [142.748596, 175.529739, 2.172565]},\n",
       " '2': {'mid_hip': [119.147896, 159.372192, -1.466844],\n",
       "  'right_hip': [128.583969, 140.894196, -1.466844],\n",
       "  'neck': [118.154633, 115.424545, 1.366988],\n",
       "  'right_eye': [136.530136, 71.976303, 8.881869],\n",
       "  'left_knee': [122.624344, 143.890625, -0.482959],\n",
       "  'left_shoulder': [142.489761, 95.947746, 4.351803],\n",
       "  'right_knee': [121.631073, 146.887054, -1.463534],\n",
       "  'right_elbow': [116.664719, 164.865631, -0.417672],\n",
       "  'right_ear': [119.644531, 68.979874, 6.030279],\n",
       "  'right_shoulder': [93.819496, 134.901337, 1.366988],\n",
       "  'left_eye': [143.483032, 71.976303, 6.684084],\n",
       "  'score': 0.785353,\n",
       "  'left_hip': [109.711823, 177.850174, -1.033266],\n",
       "  'nose': [140.50322, 75.971542, 7.400882],\n",
       "  'right_ankle': [132.557053, 177.850174, -1.911045],\n",
       "  'left_ankle': [125.604156, 158.872772, -2.337368],\n",
       "  'left_elbow': [159.375351, 108.932274, 5.865674],\n",
       "  'left_wrist': [157.388809, 82.963211, 7.85305],\n",
       "  'left_ear': [96.799309, 104.937035, 0.458518],\n",
       "  'right_wrist': [131.563782, 145.888245, 0.588589]},\n",
       " '8': {'mid_hip': [130.534729, 129.511475, 0.52808],\n",
       "  'right_hip': [122.113335, 129.011993, 1.407054],\n",
       "  'neck': [124.094841, 97.045456, 0.784371],\n",
       "  'right_eye': [136.974609, 72.071602, 10.401606],\n",
       "  'left_knee': [161.743408, 121.020363, -0.629157],\n",
       "  'left_shoulder': [142.919128, 96.046501, 5.223826],\n",
       "  'right_knee': [119.141083, 131.009903, -1.818947],\n",
       "  'right_elbow': [125.085587, 122.019318, -0.608586],\n",
       "  'right_ear': [119.141083, 68.075783, 6.701878],\n",
       "  'right_shoulder': [105.270554, 98.044411, 0.784371],\n",
       "  'left_eye': [142.919128, 71.072647, 8.332221],\n",
       "  'score': 0.947531,\n",
       "  'left_hip': [138.956116, 130.010956, 0.52808],\n",
       "  'nose': [140.937622, 77.066376, 8.327528],\n",
       "  'right_ankle': [112.205818, 131.009903, -0.850488],\n",
       "  'left_ankle': [140.937622, 131.009903, -1.314047],\n",
       "  'left_elbow': [159.761902, 109.032913, 6.903158],\n",
       "  'left_wrist': [157.780396, 83.060097, 9.275576],\n",
       "  'left_ear': [118.15033, 68.075783, 1.342664],\n",
       "  'right_wrist': [141.928375, 127.014091, -0.520803]},\n",
       " '9': {'mid_hip': [236.417694, 135.657394, -1.105229],\n",
       "  'right_hip': [233.430115, 135.657394, -1.105229],\n",
       "  'neck': [254.343094, 95.821686, 3.724689],\n",
       "  'right_eye': [223.471558, 81.879196, 10.651739],\n",
       "  'left_knee': [188.616577, 135.657394, -2.267261],\n",
       "  'left_shoulder': [266.293365, 97.813477, 4.841372],\n",
       "  'right_knee': [213.512985, 117.731323, 0.513207],\n",
       "  'right_elbow': [215.5047, 105.780617, 10.390588],\n",
       "  'right_ear': [222.475693, 78.891518, 2.53538],\n",
       "  'right_shoulder': [242.392822, 93.829903, 3.724689],\n",
       "  'left_eye': [229.446686, 82.875092, 13.209267],\n",
       "  'score': 0.99178,\n",
       "  'left_hip': [239.405258, 135.657394, -0.647597],\n",
       "  'nose': [226.459122, 86.858658, 12.603046],\n",
       "  'right_ankle': [227.454971, 135.657394, -2.007606],\n",
       "  'left_ankle': [216.500549, 130.677933, -2.994281],\n",
       "  'left_elbow': [248.36795, 131.673813, 6.880501],\n",
       "  'left_wrist': [208.533707, 125.698463, 3.607104],\n",
       "  'left_ear': [244.384537, 78.891518, 11.181129],\n",
       "  'right_wrist': [198.57515, 114.743645, 9.44154]},\n",
       " 'meta': {'vis_kp_thresh': 2,\n",
       "  'im_shape': [250, 390, 3],\n",
       "  'len_inds_parts': 20,\n",
       "  'score_thresh': 0.7}}"
      ]
     },
     "execution_count": 52,
     "metadata": {},
     "output_type": "execute_result"
    }
   ],
   "source": [
    "for "
   ]
  },
  {
   "cell_type": "code",
   "execution_count": 51,
   "metadata": {},
   "outputs": [
    {
     "ename": "NameError",
     "evalue": "name 'pose_df' is not defined",
     "output_type": "error",
     "traceback": [
      "\u001b[0;31m--------------------------------------------------------------------------\u001b[0m",
      "\u001b[0;31mNameError\u001b[0m                                Traceback (most recent call last)",
      "\u001b[0;32m<ipython-input-51-300672a10b17>\u001b[0m in \u001b[0;36m<module>\u001b[0;34m\u001b[0m\n\u001b[1;32m      2\u001b[0m \u001b[0;31m# ax.set_xlim(0, IMG_WIDTH)\u001b[0m\u001b[0;34m\u001b[0m\u001b[0;34m\u001b[0m\u001b[0;34m\u001b[0m\u001b[0m\n\u001b[1;32m      3\u001b[0m \u001b[0;31m# ax.set_ylim(IMG_HEIGHT, 0)\u001b[0m\u001b[0;34m\u001b[0m\u001b[0;34m\u001b[0m\u001b[0;34m\u001b[0m\u001b[0m\n\u001b[0;32m----> 4\u001b[0;31m \u001b[0max\u001b[0m\u001b[0;34m.\u001b[0m\u001b[0mscatter\u001b[0m\u001b[0;34m(\u001b[0m\u001b[0mpose_df\u001b[0m\u001b[0;34m[\u001b[0m\u001b[0;34m'x'\u001b[0m\u001b[0;34m]\u001b[0m\u001b[0;34m,\u001b[0m \u001b[0mpose_df\u001b[0m\u001b[0;34m[\u001b[0m\u001b[0;34m'y'\u001b[0m\u001b[0;34m]\u001b[0m\u001b[0;34m,\u001b[0m \u001b[0mc\u001b[0m\u001b[0;34m=\u001b[0m\u001b[0mpose_df\u001b[0m\u001b[0;34m[\u001b[0m\u001b[0;34m'confidence'\u001b[0m\u001b[0;34m]\u001b[0m\u001b[0;34m)\u001b[0m\u001b[0;34m\u001b[0m\u001b[0;34m\u001b[0m\u001b[0m\n\u001b[0m\u001b[1;32m      5\u001b[0m \u001b[0mplt\u001b[0m\u001b[0;34m.\u001b[0m\u001b[0mimshow\u001b[0m\u001b[0;34m(\u001b[0m\u001b[0mframe_img\u001b[0m\u001b[0;34m)\u001b[0m\u001b[0;34m\u001b[0m\u001b[0;34m\u001b[0m\u001b[0m\n\u001b[1;32m      6\u001b[0m \u001b[0mplt\u001b[0m\u001b[0;34m.\u001b[0m\u001b[0mshow\u001b[0m\u001b[0;34m(\u001b[0m\u001b[0;34m)\u001b[0m\u001b[0;34m\u001b[0m\u001b[0;34m\u001b[0m\u001b[0m\n",
      "\u001b[0;31mNameError\u001b[0m: name 'pose_df' is not defined"
     ]
    },
    {
     "data": {
      "image/png": "[encoded data removed]",
      "text/plain": [
       "<Figure size 432x288 with 1 Axes>"
      ]
     },
     "metadata": {
      "needs_background": "light"
     },
     "output_type": "display_data"
    }
   ],
   "source": [
    "fig, ax = plt.subplots()\n",
    "# ax.set_xlim(0, IMG_WIDTH)\n",
    "# ax.set_ylim(IMG_HEIGHT, 0)\n",
    "ax.scatter(pose_df['x'], pose_df['y'], c=pose_df['confidence'])\n",
    "plt.imshow(frame_img)\n",
    "plt.show()"
   ]
  }
 ],
 "metadata": {
  "kernelspec": {
   "display_name": "Python 3.7.5 64-bit ('mei_tese': virtualenv)",
   "language": "python",
   "name": "python37564bitmeitesevirtualenvfa8ee47ef0b64b92842bace2663bdabc"
  },
  "language_info": {
   "codemirror_mode": {
    "name": "ipython",
    "version": 3
   },
   "file_extension": ".py",
   "mimetype": "text/x-python",
   "name": "python",
   "nbconvert_exporter": "python",
   "pygments_lexer": "ipython3",
   "version": "3.7.5"
  }
 },
 "nbformat": 4,
 "nbformat_minor": 4
}
